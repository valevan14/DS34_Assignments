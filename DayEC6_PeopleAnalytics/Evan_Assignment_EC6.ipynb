{
  "nbformat": 4,
  "nbformat_minor": 0,
  "metadata": {
    "colab": {
      "private_outputs": true,
      "provenance": []
    },
    "kernelspec": {
      "name": "python3",
      "display_name": "Python 3"
    },
    "language_info": {
      "name": "python"
    }
  },
  "cells": [
    {
      "cell_type": "code",
      "execution_count": null,
      "metadata": {
        "id": "ywkyZt9jgxTq"
      },
      "outputs": [],
      "source": [
        "import numpy as np\n",
        "import pandas as pd\n",
        "import os\n",
        "import matplotlib.pyplot as plt\n",
        "import seaborn as sns\n",
        "import math\n",
        "import scipy.stats as stats\n",
        "pd.set_option(\"display.max_columns\", None) # show all columns\n",
        "pd.set_option(\"display.max_rows\", None) # show all rows\n",
        "pd.options.display.max_columns = 999\n",
        "pd.options.display.float_format = \"{:.2f}\".format"
      ]
    },
    {
      "cell_type": "code",
      "source": [
        "from google.colab import drive\n",
        "drive.mount('/content/drive/')\n",
        "\n",
        "# Where is your data_path\n",
        "data_path = '/content/drive/My Drive/Evan_Assignment_EC6/'"
      ],
      "metadata": {
        "id": "lH8B7IO6jIb7"
      },
      "execution_count": null,
      "outputs": []
    },
    {
      "cell_type": "code",
      "source": [
        "# Read Data\n",
        "df = pd.read_csv(data_path + 'assignment_employee_survey.csv') #, encoding='latin1')\n",
        "\n",
        "df.head()"
      ],
      "metadata": {
        "id": "c0r77tW-jMA2"
      },
      "execution_count": null,
      "outputs": []
    },
    {
      "cell_type": "markdown",
      "source": [
        "### **Kolom Relevan untuk Analisis `job_satisfaction`**\n",
        "1. `age` – Usia karyawan.  \n",
        "2. `gender` – Jenis kelamin.  \n",
        "3. `marital_status` – Status pernikahan.  \n",
        "4. `job_level` – Level jabatan.  \n",
        "5. `experience` – Lama pengalaman kerja (tahun).  \n",
        "6. `dept` – Departemen tempat bekerja.  \n",
        "7. `emp_type` – Jenis pekerjaan (Full-Time, Contract, Part-Time).  \n",
        "8. `wlb` – Work-life balance (skala 1–5).  \n",
        "9. `work_env` – Kualitas lingkungan kerja (skala 1–5).  \n",
        "10. `salary` – Gaji.  \n",
        "11. `training_hours_per_year` – Jumlah jam pelatihan per tahun.  \n",
        "12. `have_ot` – Sering lembur atau tidak.  \n",
        "13. `commute_distance` – Jarak perjalanan kerja.  \n",
        "14. `stress` – Tingkat stres kerja (skala 1–5).  \n",
        "15. `workload` – Beban kerja (skala 1–5).  \n",
        "16. `job_satisfaction` – Target analisis (skala 1–5).  "
      ],
      "metadata": {
        "id": "68277OA0kNiZ"
      }
    },
    {
      "cell_type": "code",
      "source": [
        "df.isnull().sum()"
      ],
      "metadata": {
        "collapsed": true,
        "id": "OY6jmx4MkDGW"
      },
      "execution_count": null,
      "outputs": []
    },
    {
      "cell_type": "code",
      "source": [
        "len(df.drop_duplicates())/len(df)"
      ],
      "metadata": {
        "id": "CLFf916qpzrf"
      },
      "execution_count": null,
      "outputs": []
    },
    {
      "cell_type": "markdown",
      "source": [
        "### No duplicate, no null values, so no need for data cleaning?"
      ],
      "metadata": {
        "id": "1gVXawanp7o_"
      }
    },
    {
      "cell_type": "code",
      "source": [
        "list_col = list(df.columns)"
      ],
      "metadata": {
        "id": "r2zMDR27qB1w"
      },
      "execution_count": null,
      "outputs": []
    },
    {
      "cell_type": "code",
      "source": [
        "for col in list_col:\n",
        "    missing_count = df[col].isna().sum()\n",
        "    missing_percentage = (missing_count / len(df)) * 100\n",
        "    print(f\"Column '{col}' Has {missing_count} missing values ({missing_percentage:.2f}%)\") # .2f means 2 decimal"
      ],
      "metadata": {
        "collapsed": true,
        "id": "FNrHB41Qp6ei"
      },
      "execution_count": null,
      "outputs": []
    },
    {
      "cell_type": "markdown",
      "source": [
        "### Check outliers"
      ],
      "metadata": {
        "id": "Rbl4YYBDq2EV"
      }
    },
    {
      "cell_type": "code",
      "source": [
        "df.info()"
      ],
      "metadata": {
        "id": "Ex_HTXTvqwHC"
      },
      "execution_count": null,
      "outputs": []
    },
    {
      "cell_type": "code",
      "source": [
        "data = df.copy()"
      ],
      "metadata": {
        "id": "ieKkFtfVsg0z"
      },
      "execution_count": null,
      "outputs": []
    },
    {
      "cell_type": "code",
      "source": [
        "numerical_df = data.select_dtypes(include='number')\n",
        "numerical_df.columns\n",
        "numcols = numerical_df.columns.to_list()"
      ],
      "metadata": {
        "id": "jY9ZQf9Lq6rO"
      },
      "execution_count": null,
      "outputs": []
    },
    {
      "cell_type": "code",
      "source": [
        "def check_plot(df, variable):\n",
        "    # fungsi mengambil kerangka data (df) dan\n",
        "    # variabel yang diminati sebagai argumen\n",
        "\n",
        "    # tentukan ukuran gambar\n",
        "    plt.figure(figsize=(16, 4))\n",
        "\n",
        "    # histogram\n",
        "    plt.subplot(1, 3, 1)\n",
        "    sns.histplot(df[variable], bins=30, kde=True)\n",
        "    plt.title('Histogram')\n",
        "\n",
        "    # plot Q-Q\n",
        "    plt.subplot(1, 3, 2)\n",
        "    stats.probplot(df[variable], dist=\"norm\", plot=plt)\n",
        "    plt.ylabel('Variable quantiles')\n",
        "\n",
        "    # box plot\n",
        "    plt.subplot(1, 3, 3)\n",
        "    sns.boxplot(y=df[variable])\n",
        "    plt.title('Boxplot')\n",
        "    plt.savefig(f'Dist of {col}.png')\n",
        "    plt.show()"
      ],
      "metadata": {
        "id": "5coiylJjrBqV"
      },
      "execution_count": null,
      "outputs": []
    },
    {
      "cell_type": "code",
      "source": [
        "numcols.remove('emp_id')"
      ],
      "metadata": {
        "id": "AyVG3_ourbxV"
      },
      "execution_count": null,
      "outputs": []
    },
    {
      "cell_type": "markdown",
      "source": [
        "**Before**"
      ],
      "metadata": {
        "id": "_xw9lCVptIwF"
      }
    },
    {
      "cell_type": "code",
      "source": [
        "for col in numcols:\n",
        "    check_plot(data, col)"
      ],
      "metadata": {
        "collapsed": true,
        "id": "SqK29VIesQYv"
      },
      "execution_count": null,
      "outputs": []
    },
    {
      "cell_type": "code",
      "source": [
        "def find_outlier_boundary(df, variable):\n",
        "\n",
        "    # Mari kita hitung batas luar yang merupakan outlier\n",
        "    # Rumus IQR: Q3-Q1\n",
        "    IQR = df[variable].quantile(0.75) - df[variable].quantile(0.25)\n",
        "    #LB: Q0 = Q1 - 3/2*IQR, UB: Q4 = Q3 + 3/2*IQR\n",
        "    lower_boundary = df[variable].quantile(0.25) - (IQR * 1.5)\n",
        "    upper_boundary = df[variable].quantile(0.75) + (IQR * 1.5)\n",
        "\n",
        "    return upper_boundary, lower_boundary"
      ],
      "metadata": {
        "id": "yqBxNZTHspYy"
      },
      "execution_count": null,
      "outputs": []
    },
    {
      "cell_type": "code",
      "source": [
        "filtered_columns_EDA = []\n",
        "\n",
        "for col in numcols:\n",
        "    upper_limit, lower_limit = find_outlier_boundary(data, col)\n",
        "\n",
        "    # Check if there are values outside the boundary\n",
        "    is_outlier = (data[col] > upper_limit) | (data[col] < lower_limit)\n",
        "\n",
        "    if is_outlier.any():\n",
        "        print(f\"Column: {col} | Outliers detected | Upper: {upper_limit}, Lower: {lower_limit}\")\n",
        "        data = data[~is_outlier]\n",
        "        filtered_columns_EDA.append(col)\n",
        "    else:\n",
        "        print(f\"Column: {col} | No outliers detected. Skipping filtering.\")\n",
        "\n",
        "print(\"\\nColumns that required filtering due to outliers:\")\n",
        "print(filtered_columns_EDA)"
      ],
      "metadata": {
        "id": "a_IhhPR_s71r"
      },
      "execution_count": null,
      "outputs": []
    },
    {
      "cell_type": "markdown",
      "source": [
        "**After**"
      ],
      "metadata": {
        "id": "Jkv4CrxatF19"
      }
    },
    {
      "cell_type": "code",
      "source": [
        "# adjust the figure size for better readability/after outlier handling\n",
        "plt.figure(figsize=(12,6))\n",
        "\n",
        "# plotting\n",
        "for i in range(0, len(numcols)):\n",
        "    plt.subplot(1, len(numcols), i+1)\n",
        "    sns.boxplot(y=data[numcols[i]], color='red')\n",
        "    plt.tight_layout()"
      ],
      "metadata": {
        "collapsed": true,
        "id": "HO1FGof7s-u6"
      },
      "execution_count": null,
      "outputs": []
    },
    {
      "cell_type": "code",
      "source": [
        "for col in filtered_columns_EDA:\n",
        "    check_plot(data, col)"
      ],
      "metadata": {
        "collapsed": true,
        "id": "Dpw-Tu8NtRSs"
      },
      "execution_count": null,
      "outputs": []
    },
    {
      "cell_type": "code",
      "source": [
        "categorical_cols = data.select_dtypes(include='object')\n",
        "catcols = categorical_cols.columns.to_list()\n",
        "catcols"
      ],
      "metadata": {
        "id": "-HoQCzltti6T"
      },
      "execution_count": null,
      "outputs": []
    },
    {
      "cell_type": "markdown",
      "source": [
        "#### Range Value and Unique Values"
      ],
      "metadata": {
        "id": "nkxM0m1Sux4X"
      }
    },
    {
      "cell_type": "code",
      "source": [
        "for col in data.columns:\n",
        "    print(f\"=== {col} ===\")\n",
        "    if data[col].dtype == 'object':\n",
        "        print(data[col].value_counts())\n",
        "    else:\n",
        "        print(f\"Min: {data[col].min()}, Max: {data[col].max()}\")\n",
        "    print(\"\\n\")"
      ],
      "metadata": {
        "collapsed": true,
        "id": "E1oxBuH9t2ys"
      },
      "execution_count": null,
      "outputs": []
    },
    {
      "cell_type": "code",
      "source": [
        "for col in data.columns:\n",
        "    print(f\"=== {col} ===\")\n",
        "    print(data[col].unique())\n",
        "    print(\"\\n\")\n"
      ],
      "metadata": {
        "collapsed": true,
        "id": "7xAuhc_bu7A4"
      },
      "execution_count": null,
      "outputs": []
    },
    {
      "cell_type": "markdown",
      "source": [
        "#### Statistical Summary"
      ],
      "metadata": {
        "id": "SteIn4fsveE7"
      }
    },
    {
      "cell_type": "code",
      "source": [
        "data[numcols].describe()"
      ],
      "metadata": {
        "id": "cGIYwFwxvAwO"
      },
      "execution_count": null,
      "outputs": []
    },
    {
      "cell_type": "code",
      "source": [
        "# plot heatmap\n",
        "corr = data[numcols].corr()\n",
        "\n",
        "# Plot heatmap\n",
        "plt.figure(figsize=(10, 6))\n",
        "sns.heatmap(corr, annot=True, cmap=\"coolwarm\", fmt=\".2f\")\n",
        "plt.title(\"Heatmap Korelasi Antar Variabel Numerik\", fontsize=14)\n",
        "plt.savefig(data_path + 'Heatmap Correlation for People Analytics.png')\n",
        "plt.show()"
      ],
      "metadata": {
        "id": "C9avINVvvQlG"
      },
      "execution_count": null,
      "outputs": []
    },
    {
      "cell_type": "code",
      "source": [
        "catcols"
      ],
      "metadata": {
        "id": "KlQw_owS6Iqp"
      },
      "execution_count": null,
      "outputs": []
    },
    {
      "cell_type": "markdown",
      "source": [
        "### Significant Correlations with Job Satisfaction\n",
        "\n",
        "#### **Positive Correlations**:\n",
        "- **`wib` (0.12)**: Slight positive correlation.  \n",
        "- **`work_env` (0.12)**: Better work environment → higher satisfaction.  \n",
        "- **`sleep_hours` (0.10)**: More sleep → slightly higher satisfaction.  \n",
        "\n",
        "#### **Negative Correlations**:\n",
        "- **`workload` (-0.13)**: Strongest negative effect. Higher workload → lower satisfaction.  \n",
        "- **`stress` (-0.09)**: Higher stress → lower satisfaction (weaker than workload).  \n",
        "\n",
        "#### **Negligible Correlations** (≈0):\n",
        "- `age`, `experience`, `hours_per_year`, `team_size`, `num_reports`.  \n",
        "\n",
        "---\n",
        "\n",
        "### **Key Takeaways**:\n",
        "1. **Top detractors**: Reduce `workload` and `stress` for maximum impact.  \n",
        "2. **Mild boosters**: Improve `work_env`, `sleep_hours`, and `wib` (if actionable).  \n",
        "\n",
        "### **Actionable Insights**:\n",
        "-  **Optimize workload distribution**.  \n",
        "-  **Introduce stress-management programs**.  \n",
        "-  **Promote sleep hygiene policies**.  \n",
        "-  **Enhance workplace environment** (e.g., flexibility, team activities).  "
      ],
      "metadata": {
        "id": "4Zlu87iex9nR"
      }
    },
    {
      "cell_type": "code",
      "source": [
        "import pandas as pd\n",
        "import seaborn as sns\n",
        "import matplotlib.pyplot as plt\n",
        "from scipy import stats\n",
        "from scipy.stats import spearmanr, pearsonr, kendalltau\n",
        "\n",
        "alpha = 0.05\n",
        "results = []\n",
        "\n",
        "# Pastikan emp_id keluar dari numcols\n",
        "if 'emp_id' in numcols:\n",
        "    numcols.remove('emp_id')\n",
        "\n",
        "# --- Numerik vs Numerik ---\n",
        "for col in numcols:\n",
        "    if col != 'job_satisfaction':\n",
        "        # Spearman\n",
        "        corr, p = spearmanr(data[col], data['job_satisfaction'])\n",
        "        method = \"Spearman\"\n",
        "\n",
        "        # Bisa ganti ke Pearson atau Kendall jika mau:\n",
        "        # corr, p = pearsonr(data[col], data['job_satisfaction'])\n",
        "        # method = \"Pearson\"\n",
        "        # corr, p = kendalltau(data[col], data['job_satisfaction'])\n",
        "        # method = \"Kendall\"\n",
        "\n",
        "        conclusion = \"Berpengaruh signifikan\" if p < alpha else \"Tidak signifikan\"\n",
        "        results.append({\n",
        "            \"Variable\": col,\n",
        "            \"Test\": f\"{method} Correlation\",\n",
        "            \"Statistic\": corr,\n",
        "            \"p-value\": p,\n",
        "            \"Conclusion\": conclusion\n",
        "        })\n",
        "\n",
        "# --- Kategorikal vs Numerik ---\n",
        "for col in catcols:\n",
        "    groups = [data.loc[data[col] == cat, 'job_satisfaction'].dropna()\n",
        "              for cat in data[col].unique()]\n",
        "\n",
        "    if len(groups) > 1:\n",
        "        # Cek normalitas tiap group (hanya kalau sampel >= 3)\n",
        "        normal = all(stats.shapiro(g)[1] > alpha for g in groups if len(g) >= 3)\n",
        "\n",
        "        if len(groups) == 2:\n",
        "            if normal:\n",
        "                stat, p = stats.ttest_ind(groups[0], groups[1])\n",
        "                test_type = \"T-Test\"\n",
        "            else:\n",
        "                stat, p = stats.mannwhitneyu(groups[0], groups[1])\n",
        "                test_type = \"Mann–Whitney\"\n",
        "        else:\n",
        "            if normal:\n",
        "                stat, p = stats.f_oneway(*groups)\n",
        "                test_type = \"ANOVA\"\n",
        "            else:\n",
        "                stat, p = stats.kruskal(*groups)\n",
        "                test_type = \"Kruskal–Wallis\"\n",
        "\n",
        "        results.append({\n",
        "            'Variable': col,\n",
        "            'Test': test_type,\n",
        "            'Statistic': stat,\n",
        "            'p-value': p,\n",
        "            'Conclusion': 'Berpengaruh signifikan' if p < alpha else 'Tidak signifikan'\n",
        "        })\n",
        "\n",
        "# DataFrame hasil\n",
        "results_df = pd.DataFrame(results)\n",
        "\n",
        "# --- Heatmap korelasi (Spearman) ---\n",
        "plt.figure(figsize=(10, 8))\n",
        "sns.heatmap(data[numcols].corr(method='spearman'), annot=True, cmap='coolwarm')\n",
        "plt.title(\"Spearman Correlation Heatmap\")\n",
        "plt.show()\n",
        "\n",
        "results_df"
      ],
      "metadata": {
        "id": "JGYFaaGpwKyR"
      },
      "execution_count": null,
      "outputs": []
    },
    {
      "cell_type": "markdown",
      "source": [
        "Menurut uji statistik, variable yang pengaruh adalah `edu_level, workload, stress, sleep_hours, work_env dan wlb (work-life balance)`"
      ],
      "metadata": {
        "id": "hNChp0FJ96uK"
      }
    },
    {
      "cell_type": "markdown",
      "source": [
        "#### **Avg Satisfaction**"
      ],
      "metadata": {
        "id": "5tIR3_5iCwnO"
      }
    },
    {
      "cell_type": "code",
      "source": [
        "avg_satisfaction = df.groupby('dept')['job_satisfaction'].mean().reset_index()\n",
        "avg_satisfaction"
      ],
      "metadata": {
        "id": "YVx5eOJqBVub"
      },
      "execution_count": null,
      "outputs": []
    },
    {
      "cell_type": "code",
      "source": [
        "company_avg = df['job_satisfaction'].mean()\n",
        "\n",
        "avg_satisfaction['satisfaction_value'] = avg_satisfaction['job_satisfaction'].apply(\n",
        "    lambda x: 'Tinggi' if x > company_avg else 'Rendah'\n",
        ")\n",
        "print(company_avg)\n",
        "avg_satisfaction"
      ],
      "metadata": {
        "id": "i_8LTWqFBjyG"
      },
      "execution_count": null,
      "outputs": []
    },
    {
      "cell_type": "code",
      "source": [
        "# data = data.drop(columns=['satisfaction_segment'])"
      ],
      "metadata": {
        "id": "0vZ24sA-CH6J"
      },
      "execution_count": null,
      "outputs": []
    },
    {
      "cell_type": "code",
      "source": [
        "# data = data.merge(avg_satisfaction[['dept', 'satisfaction_segment']], on='dept')\n",
        "# data.head()"
      ],
      "metadata": {
        "id": "irxoYwblB6iw"
      },
      "execution_count": null,
      "outputs": []
    },
    {
      "cell_type": "markdown",
      "source": [
        "#### **Satisfaction per Segment per Employee**"
      ],
      "metadata": {
        "id": "LlNW9EQnC2jl"
      }
    },
    {
      "cell_type": "code",
      "source": [
        "mean_js = data['job_satisfaction'].mean()\n",
        "data['emp_satisfaction'] = data['job_satisfaction'].apply(\n",
        "    lambda x: 'Tinggi' if x > mean_js else 'Rendah'\n",
        ")\n",
        "\n",
        "print(data['emp_satisfaction'].value_counts())\n",
        "\n",
        "sns.boxplot(x='dept', y='job_satisfaction', data=data)\n",
        "plt.title(\"Distribusi Job Satisfaction per Departemen\")\n",
        "plt.xticks(rotation=45)\n",
        "plt.show()\n",
        "\n",
        "data[['dept', 'job_satisfaction', 'emp_satisfaction']].head()"
      ],
      "metadata": {
        "id": "iu_zqJ106vJQ"
      },
      "execution_count": null,
      "outputs": []
    },
    {
      "cell_type": "code",
      "source": [
        "# data = data.drop(columns=['satisfaction_segment'])\n",
        "data.head()"
      ],
      "metadata": {
        "id": "fqL4WMgBCmkr"
      },
      "execution_count": null,
      "outputs": []
    },
    {
      "cell_type": "code",
      "source": [
        "# 1. Histogram Job Satisfaction\n",
        "plt.figure(figsize=(8,5))\n",
        "sns.histplot(data['job_satisfaction'], bins=10, kde=True, color='skyblue')\n",
        "plt.axvline(mean_js, color='red', linestyle='--', label=f'Mean: {mean_js:.2f}')\n",
        "plt.title(\"Distribusi Job Satisfaction\")\n",
        "plt.xlabel(\"Job Satisfaction\")\n",
        "plt.ylabel(\"Frekuensi\")\n",
        "plt.legend()\n",
        "plt.show()\n",
        "\n",
        "# 2. Boxplot keseluruhan\n",
        "plt.figure(figsize=(6,4))\n",
        "sns.boxplot(y='job_satisfaction', data=data, color='lightgreen')\n",
        "plt.title(\"Boxplot Job Satisfaction\")\n",
        "plt.ylabel(\"Job Satisfaction\")\n",
        "plt.show()\n",
        "\n",
        "# 3. Countplot Segmen Kepuasan\n",
        "plt.figure(figsize=(6,4))\n",
        "sns.countplot(x='emp_satisfaction', data=data, palette='Set2')\n",
        "plt.title(\"Jumlah Karyawan per Segmen Kepuasan\")\n",
        "plt.xlabel(\"Segmen Kepuasan\")\n",
        "plt.ylabel(\"Jumlah Karyawan\")\n",
        "plt.show()"
      ],
      "metadata": {
        "id": "NEv98O38-UyU"
      },
      "execution_count": null,
      "outputs": []
    },
    {
      "cell_type": "markdown",
      "source": [
        "### **Identifikasi segmen karyawan yang memiliki tingkat kepuasan lebih tinggi atau lebih rendah dibandingkan rata-rata.**"
      ],
      "metadata": {
        "id": "IbodoSDsF3wO"
      }
    },
    {
      "cell_type": "code",
      "source": [
        "# Hitung jumlah \"Tinggi\" dan \"Rendah\" tiap departemen\n",
        "cross_tab = pd.crosstab(\n",
        "    index=data['dept'],\n",
        "    columns=data['emp_satisfaction'],\n",
        "    margins=True,  # Menambahkan total\n",
        "    margins_name=\"Total\"\n",
        ")\n",
        "cross_tab"
      ],
      "metadata": {
        "id": "OOAoOfwCChFX"
      },
      "execution_count": null,
      "outputs": []
    },
    {
      "cell_type": "code",
      "source": [
        "# Hitung persentase \"Tinggi\" tiap departemen\n",
        "percentage = data.groupby('dept')['emp_satisfaction'].apply(\n",
        "    lambda x: (x == 'Tinggi').mean() * 100\n",
        ").reset_index(name='% Tinggi')\n",
        "\n",
        "percentage.sort_values(by='% Tinggi', ascending=False)"
      ],
      "metadata": {
        "id": "3BW8wF3zF88Q"
      },
      "execution_count": null,
      "outputs": []
    },
    {
      "cell_type": "code",
      "source": [
        "# Hitung persentase 'Tinggi' dan 'Rendah' per dept\n",
        "dept_summary = (\n",
        "    data.groupby(['dept', 'emp_satisfaction'])\n",
        "    .size()\n",
        "    .unstack()\n",
        "    .assign(\n",
        "        Total=lambda x: x['Tinggi'] + x['Rendah'],\n",
        "        Persen_Tinggi=lambda x: round((x['Tinggi'] / x['Total']) * 100, 2),\n",
        "        Persen_Rendah=lambda x: round((x['Rendah'] / x['Total']) * 100, 2)\n",
        "    )\n",
        ")\n",
        "print(mean_js)\n",
        "dept_summary"
      ],
      "metadata": {
        "id": "JIKxgv_IGk_u"
      },
      "execution_count": null,
      "outputs": []
    },
    {
      "cell_type": "code",
      "source": [
        "plt.figure(figsize=(10, 6))\n",
        "sns.countplot(\n",
        "    data=data,\n",
        "    x='dept',\n",
        "    hue='emp_satisfaction',\n",
        "    order=data['dept'].value_counts().index\n",
        ")\n",
        "plt.title(\"Distribusi Tinggi/Rendah Job Satisfaction per Departemen\")\n",
        "plt.xticks(rotation=45)\n",
        "plt.legend(title='Kepuasan')\n",
        "plt.show()"
      ],
      "metadata": {
        "id": "IljNYsIjGCwE"
      },
      "execution_count": null,
      "outputs": []
    },
    {
      "cell_type": "code",
      "source": [
        "plt.figure(figsize=(10, 8))\n",
        "ax = sns.barplot(\n",
        "    data=dept_summary.reset_index(),\n",
        "    x='dept',\n",
        "    y='Persen_Tinggi',\n",
        "    color='skyblue',\n",
        "    order=dept_summary.sort_values('Persen_Tinggi', ascending=False).index\n",
        ")\n",
        "\n",
        "# Add two-line labels\n",
        "for i, p in enumerate(ax.patches):\n",
        "    dept = dept_summary.index[i]\n",
        "    count = dept_summary.loc[dept, 'Tinggi']\n",
        "    total = dept_summary.loc[dept, 'Total']\n",
        "    percentage = dept_summary.loc[dept, 'Persen_Tinggi']\n",
        "\n",
        "    # First line (percentage)\n",
        "    ax.annotate(\n",
        "        f'{percentage:.1f}%',\n",
        "        (p.get_x() + p.get_width() / 2., p.get_height()),\n",
        "        ha='center', va='center',\n",
        "        xytext=(0, 5),\n",
        "        textcoords='offset points',\n",
        "        fontsize=10\n",
        "    )\n",
        "\n",
        "    # Second line (count)\n",
        "    ax.annotate(\n",
        "        f'({count}/{total})',\n",
        "        (p.get_x() + p.get_width() / 2., p.get_height()),\n",
        "        ha='center', va='center',\n",
        "        xytext=(0, -10),  # Position below the percentage\n",
        "        textcoords='offset points',\n",
        "        fontsize=9\n",
        "    )\n",
        "\n",
        "# Style adjustments\n",
        "# plt.axhline(y=mean_js*20, color='red', linestyle='--', label='Rata-Rata Perusahaan')\n",
        "plt.title('Persentase Karyawan dengan Kepuasan Tinggi per Departemen (Low/High)', pad=20)\n",
        "plt.xlabel('Departemen')\n",
        "plt.ylabel('Persentase Tinggi (%)')\n",
        "plt.xticks(rotation=45)\n",
        "plt.ylim(0, 110)  # Extra space for two-line labels\n",
        "plt.legend()\n",
        "plt.tight_layout()\n",
        "plt.show()"
      ],
      "metadata": {
        "id": "oni26wV5GEtT"
      },
      "execution_count": null,
      "outputs": []
    },
    {
      "cell_type": "code",
      "source": [],
      "metadata": {
        "id": "1hbOQQvRG63P"
      },
      "execution_count": null,
      "outputs": []
    }
  ]
}