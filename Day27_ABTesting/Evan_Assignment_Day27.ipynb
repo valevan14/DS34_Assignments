{
 "cells": [
  {
   "cell_type": "markdown",
   "metadata": {
    "id": "8vu93s4KH518"
   },
   "source": [
    "# Evaluating A/B Test\n",
    "\n",
    "After we have collected enough samples for the A/B test, here we will evaluate the result using statistical testing. The following is AB Testing to focus on the right media of advertisement. "
   ]
  },
  {
   "cell_type": "code",
   "execution_count": 1,
   "metadata": {
    "id": "uYbKOak2KQNj"
   },
   "outputs": [],
   "source": [
    "import numpy as np\n",
    "import pandas as pd\n",
    "import os\n",
    "import matplotlib.pyplot as plt\n",
    "import seaborn as sns\n",
    "from itertools import product\n",
    "\n",
    "pd.options.display.max_columns = 999\n",
    "pd.options.display.float_format = \"{:.2f}\".format"
   ]
  },
  {
   "cell_type": "code",
   "execution_count": 2,
   "metadata": {
    "colab": {
     "base_uri": "https://localhost:8080/",
     "height": 206
    },
    "id": "ZW4NOK-uKt5c",
    "outputId": "b986014f-78e9-4acc-ab77-4d69c49b966f"
   },
   "outputs": [
    {
     "data": {
      "text/html": [
       "<div>\n",
       "<style scoped>\n",
       "    .dataframe tbody tr th:only-of-type {\n",
       "        vertical-align: middle;\n",
       "    }\n",
       "\n",
       "    .dataframe tbody tr th {\n",
       "        vertical-align: top;\n",
       "    }\n",
       "\n",
       "    .dataframe thead th {\n",
       "        text-align: right;\n",
       "    }\n",
       "</style>\n",
       "<table border=\"1\" class=\"dataframe\">\n",
       "  <thead>\n",
       "    <tr style=\"text-align: right;\">\n",
       "      <th></th>\n",
       "      <th>Unnamed: 0</th>\n",
       "      <th>user id</th>\n",
       "      <th>test group</th>\n",
       "      <th>converted</th>\n",
       "      <th>total ads</th>\n",
       "      <th>most ads day</th>\n",
       "      <th>most ads hour</th>\n",
       "    </tr>\n",
       "  </thead>\n",
       "  <tbody>\n",
       "    <tr>\n",
       "      <th>0</th>\n",
       "      <td>0</td>\n",
       "      <td>1069124</td>\n",
       "      <td>ad</td>\n",
       "      <td>False</td>\n",
       "      <td>130</td>\n",
       "      <td>Monday</td>\n",
       "      <td>20</td>\n",
       "    </tr>\n",
       "    <tr>\n",
       "      <th>1</th>\n",
       "      <td>1</td>\n",
       "      <td>1119715</td>\n",
       "      <td>ad</td>\n",
       "      <td>False</td>\n",
       "      <td>93</td>\n",
       "      <td>Tuesday</td>\n",
       "      <td>22</td>\n",
       "    </tr>\n",
       "    <tr>\n",
       "      <th>2</th>\n",
       "      <td>2</td>\n",
       "      <td>1144181</td>\n",
       "      <td>ad</td>\n",
       "      <td>False</td>\n",
       "      <td>21</td>\n",
       "      <td>Tuesday</td>\n",
       "      <td>18</td>\n",
       "    </tr>\n",
       "    <tr>\n",
       "      <th>3</th>\n",
       "      <td>3</td>\n",
       "      <td>1435133</td>\n",
       "      <td>ad</td>\n",
       "      <td>False</td>\n",
       "      <td>355</td>\n",
       "      <td>Tuesday</td>\n",
       "      <td>10</td>\n",
       "    </tr>\n",
       "    <tr>\n",
       "      <th>4</th>\n",
       "      <td>4</td>\n",
       "      <td>1015700</td>\n",
       "      <td>ad</td>\n",
       "      <td>False</td>\n",
       "      <td>276</td>\n",
       "      <td>Friday</td>\n",
       "      <td>14</td>\n",
       "    </tr>\n",
       "  </tbody>\n",
       "</table>\n",
       "</div>"
      ],
      "text/plain": [
       "   Unnamed: 0  user id test group  converted  total ads most ads day  \\\n",
       "0           0  1069124         ad      False        130       Monday   \n",
       "1           1  1119715         ad      False         93      Tuesday   \n",
       "2           2  1144181         ad      False         21      Tuesday   \n",
       "3           3  1435133         ad      False        355      Tuesday   \n",
       "4           4  1015700         ad      False        276       Friday   \n",
       "\n",
       "   most ads hour  \n",
       "0             20  \n",
       "1             22  \n",
       "2             18  \n",
       "3             10  \n",
       "4             14  "
      ]
     },
     "execution_count": 2,
     "metadata": {},
     "output_type": "execute_result"
    }
   ],
   "source": [
    "df = pd.read_csv('marketing_AB.csv')\n",
    "\n",
    "df.head()"
   ]
  },
  {
   "cell_type": "code",
   "execution_count": 3,
   "metadata": {},
   "outputs": [
    {
     "name": "stdout",
     "output_type": "stream",
     "text": [
      "['ad' 'psa']\n"
     ]
    }
   ],
   "source": [
    "print(df['test group'].unique())"
   ]
  },
  {
   "cell_type": "markdown",
   "metadata": {
    "id": "FbxMmuY6mL-s"
   },
   "source": [
    "Data description:\n",
    "\n",
    "* user_id: ID of the user\n",
    "* group: user saw advertisement (group ad), user saw public service announcement (group psa) --> (control/variant)\n",
    "* converted: bought the product (True), else is False\n",
    "* total ads: amount of ads seen by this user\n",
    "* most ads day: day that user saw highest amount/number of ads\n",
    "* most ads hour: hour of day that person saw the highest amount of ads"
   ]
  },
  {
   "cell_type": "code",
   "execution_count": 4,
   "metadata": {},
   "outputs": [
    {
     "name": "stdout",
     "output_type": "stream",
     "text": [
      "<class 'pandas.core.frame.DataFrame'>\n",
      "RangeIndex: 588101 entries, 0 to 588100\n",
      "Data columns (total 6 columns):\n",
      " #   Column         Non-Null Count   Dtype \n",
      "---  ------         --------------   ----- \n",
      " 0   user id        588101 non-null  int64 \n",
      " 1   test group     588101 non-null  object\n",
      " 2   converted      588101 non-null  bool  \n",
      " 3   total ads      588101 non-null  int64 \n",
      " 4   most ads day   588101 non-null  object\n",
      " 5   most ads hour  588101 non-null  int64 \n",
      "dtypes: bool(1), int64(3), object(2)\n",
      "memory usage: 23.0+ MB\n"
     ]
    }
   ],
   "source": [
    "df = df.drop(columns = ['Unnamed: 0'])\n",
    "df.info()"
   ]
  },
  {
   "cell_type": "markdown",
   "metadata": {},
   "source": [
    "1. Menentukan Objective A/B Testing\n",
    "Tentukan tujuan utama dari pengujian A/B Testing berdasarkan dataset.\n",
    "- Identifikasi metrik yang ingin diukur dalam pengujian.\n",
    "- Pastikan objective spesifik dan dapat diuji dengan data.\n",
    "- Jelaskan bagaimana pengujian ini dapat berdampak pada bisnis.\n",
    "  \n",
    "**Goals**: Memastikan pengujian memiliki tujuan yang jelas dan dapat diukur.\n",
    "\n",
    "2. Menyusun Hipotesis\n",
    "Buat hipotesis yang dapat diuji secara statistik berdasarkan dataset.\n",
    "- Tentukan hipotesis alternatif (H1) dan hipotesis nol (H0).\n",
    "- Pastikan hipotesis berhubungan langsung dengan metrik yang digunakan dalam dataset.\n",
    "- Jelaskan bagaimana hasil pengujian akan menentukan penerimaan atau penolakan hipotesis.\n",
    "  \n",
    "**Goals**: Membantu student dalam menyusun hipotesis yang kuat dan objektif.\n",
    "\n",
    "3. Merancang Desain Pengujian\n",
    "Tentukan bagaimana pengujian akan dilakukan menggunakan dataset yang diberikan.\n",
    "- Pembagian Grup:\n",
    "    - Control Group: Pengguna yang tetap menggunakan fitur lama.\n",
    "    - Target Group: Pengguna yang mendapatkan fitur baru.\n",
    "- Sample Size: Berikan perkiraan jumlah sampel yang diperlukan.\n",
    "- Randomization: Jelaskan bagaimana pengacakan akan dilakukan.\n",
    "- Durasi: Tentukan durasi pengujian untuk mengumpulkan data yang cukup.\n",
    "  \n",
    "**Goals**: Merancang pengujian yang terstruktur dan bebas dari bias."
   ]
  },
  {
   "cell_type": "markdown",
   "metadata": {
    "id": "c6XvZ_S0LOHD"
   },
   "source": [
    "## Conversion Rate\n",
    "\n",
    "First, we will evaluate if the conversion has increased with the new variant. To compare the proportion between two different samples, we can use the proportion z-test."
   ]
  },
  {
   "cell_type": "markdown",
   "metadata": {},
   "source": [
    "### Objectives\n",
    "\n",
    "**Metric Choices**: \n",
    "\n",
    "      - Conversion rate: converted user/total user in that group\n",
    "      - Average ads per user\n",
    "      - Conversion rate by most ads hour or by most ads day\n",
    "      - lift = conversion rate ad group/conversion rate psa group\n",
    "  \n",
    "    So choose both conversion rate and lift as metrics\n",
    "\n",
    "**Objectives**: Test if ads can increase conversion incompare to PSA\n",
    "**Business Impact**: \n",
    "1. If the test shows that ads are effective, company can increase the ads budget and optimize the marketing strategy for this media\n",
    "2. If there is no significant difference, company can consider to decrease ads budget and focus on PSA or any other marketing strategies.\n",
    "\n",
    "### Hypothesis\n",
    "\n",
    "**$H_0$**: No difference of conversion between group who sees ads and group that sees PSA ($p_{ad} \\leq p_{PSA}$)\n",
    "\n",
    "**$H_1$**: There is a difference between ad group and PSA group ($p_{ad} > p_{PSA}$)\n",
    "\n",
    "This is one direction hypothesis as we want to see the increase in conversion. This is called superiority test.\n",
    "\n",
    "### Group division \n",
    "\n",
    "- **Control Group**: psa\n",
    "\n",
    "- **Test (Variant) Group**: ad\n",
    "\n",
    "- **Randomization**: User that is assigned randomly into one of the two groups (PSA or ads) so that there will be no systematic bias. We need to do this before _data collection_, so that two groups have similar basic characteristics like visitation, behavior, demography\n",
    "\n",
    "- **Sample Size Estimate**: Estimating the minimum size of sample to detect a significant difference between tested metric such as ads total or conversion\n",
    "\n",
    "- **Duration**: Duration is defined by daily traffic volume and time needed to achieve minimum sample size"
   ]
  },
  {
   "cell_type": "markdown",
   "metadata": {
    "id": "9y3mR2jSd-2k"
   },
   "source": [
    "### Proportion Z Test\n",
    "\n",
    "\n",
    "Since the test is evaluating whether the variant is better than the control (superiority test), we need to adjust our hypothesis statement into the following:\n",
    "\n",
    "$H_0: p_{variant} \\leq p_{control}$\n",
    "\n",
    "$H_1: p_{variant} > p_{control}$\n"
   ]
  },
  {
   "cell_type": "code",
   "execution_count": 5,
   "metadata": {
    "colab": {
     "base_uri": "https://localhost:8080/"
    },
    "id": "XXW0BQsCIQwy",
    "outputId": "40a40c15-c2ba-4e7b-b961-67fd729790fe"
   },
   "outputs": [
    {
     "name": "stdout",
     "output_type": "stream",
     "text": [
      "Z-statistic: 7.3701\n",
      "P-value: 0.0000\n",
      "Conversion Rate (ad): 2.555%\n",
      "Conversion Rate (psa): 1.785%\n",
      "Lift or ratio (conversion ad/psa): 1.4308506402222583\n"
     ]
    }
   ],
   "source": [
    "from statsmodels.stats.proportion import proportions_ztest\n",
    "\n",
    "group_psa = df[ df['test group'] == 'psa']\n",
    "group_ad = df[ df['test group'] == 'ad']\n",
    "\n",
    "conversion = [group_ad['converted'].sum(), group_psa['converted'].sum()]\n",
    "sample = [group_ad.shape[0], group_psa.shape[0]]\n",
    "\n",
    "conversion_rate_ad = df[df['test group'] == 'ad']['converted'].mean() # conversion[0]/sample[0]\n",
    "conversion_rate_psa = df[df['test group'] == 'psa']['converted'].mean() # conversion[1]/sample[1]\n",
    "lift = conversion_rate_ad/conversion_rate_psa\n",
    "\n",
    "# Run one-sided two-proportion z-test (alternative: 'larger' means group_b > group_a)\n",
    "z_stat, p_value = proportions_ztest(conversion, sample)\n",
    "\n",
    "# Print results\n",
    "print(f\"Z-statistic: {z_stat:.4f}\")\n",
    "print(f\"P-value: {p_value:.4f}\")\n",
    "print(f\"Conversion Rate (ad): {conversion_rate_ad:.3%}\")\n",
    "print(f\"Conversion Rate (psa): {conversion_rate_psa:.3%}\")\n",
    "print(f\"Lift or ratio (conversion ad/psa): {lift}\")"
   ]
  },
  {
   "cell_type": "markdown",
   "metadata": {},
   "source": [
    "### Visualization"
   ]
  },
  {
   "cell_type": "code",
   "execution_count": 6,
   "metadata": {},
   "outputs": [
    {
     "data": {
      "image/png": "[encoded data removed]",
      "text/plain": [
       "<Figure size 640x480 with 1 Axes>"
      ]
     },
     "metadata": {},
     "output_type": "display_data"
    }
   ],
   "source": [
    "conversion_rates = [conversion_rate_ad, conversion_rate_psa]\n",
    "groups = ['ad', 'psa']\n",
    "\n",
    "plt.bar(groups, conversion_rates)\n",
    "plt.xlabel('Test Group')\n",
    "plt.ylabel('Conversion Rate')\n",
    "plt.title('Conversion Rate Comparison')\n",
    "plt.show()"
   ]
  },
  {
   "cell_type": "markdown",
   "metadata": {
    "id": "zIEBoU5OoIhb"
   },
   "source": [
    "When the $H_0$ is rejected (p-value < 0.05), we can safely assume that the conversion rate of the variant is higher than the control group. We can also see the CVR variant (Ad) is 2.555% while CVR for control group (PSA) is 1.785%.\n",
    "\n",
    "We can see that ads have big influence on conversion in comparison to PSA"
   ]
  },
  {
   "cell_type": "code",
   "execution_count": 7,
   "metadata": {},
   "outputs": [
    {
     "data": {
      "text/plain": [
       "Index(['user id', 'test group', 'converted', 'total ads', 'most ads day',\n",
       "       'most ads hour'],\n",
       "      dtype='object')"
      ]
     },
     "execution_count": 7,
     "metadata": {},
     "output_type": "execute_result"
    }
   ],
   "source": [
    "df.columns"
   ]
  },
  {
   "cell_type": "markdown",
   "metadata": {},
   "source": [
    "## Guardrail Metric: Total Ads\n",
    "\n",
    "### Objectives\n",
    "\n",
    "__Metrics__: Total ads shown to users of ad group in comparison to PSA group\n",
    "__Objectives__: This test purpose is to evaluate whether the user in ads group see more advert in comparison to PSA group. This is to increase the effective advertisement distribution.\n",
    "\n",
    "__Business Impact__:\n",
    "1. If user in ad group see more adverts, the strategy is effective and should be continued\n",
    "2. If not, company can review the policy and advert budget.\n",
    "\n",
    "### Hypothesis\n",
    "\n",
    "**$H_0$**: Total ads in ad group is less than PSA ($\\mu_{ads} \\leq \\mu_{psa}$)\n",
    "\n",
    "**$H_1$**: Total ads in ad group is more than PSA ($\\mu_{ads} > \\mu_{psa}$)\n",
    "\n",
    "One tailed hypothesis test (right tailed or left tailed) is to check whether this ad group received significantly different advertisement exposure in comparison to PSA group\n",
    "\n",
    "### Group division \n",
    "\n",
    "- **Control Group**: psa\n",
    "\n",
    "- **Test Group**: ad\n",
    "\n",
    "- **Randomization**: User that is assigned randomly into one of the two groups (PSA or ads) so that there will be no systematic bias. We need to do this before _data collection_, so that two groups have similar basic characteristics like visitation, behavior, demography\n",
    "\n",
    "- **Sample Size Estimate**: Estimating the minimum size of sample to detect a significant difference between tested metric such as ads total or conversion\n",
    "\n",
    "- **Duration**: Duration is defined by daily traffic volume and time needed to achieve minimum sample size"
   ]
  },
  {
   "cell_type": "code",
   "execution_count": 8,
   "metadata": {},
   "outputs": [
    {
     "name": "stdout",
     "output_type": "stream",
     "text": [
      "Ad:\n",
      "Reject normality at 5.0% significance level\n",
      "Reject normality at 2.5% significance level\n",
      "Reject normality at 1.0% significance level\n",
      "\n",
      "PSA:\n",
      "Reject normality at 5.0% significance level\n",
      "Reject normality at 2.5% significance level\n",
      "Reject normality at 1.0% significance level\n",
      "\n"
     ]
    }
   ],
   "source": [
    "from scipy import stats\n",
    "\n",
    "total_psa = df[df['test group'] == 'psa']['total ads'] # control\n",
    "total_ad = df[df['test group'] == 'ad']['total ads'] # variant\n",
    "\n",
    "# Normality Test (test if the dataset follow normal distribution)\n",
    "def ad_normal_test(x):\n",
    "    # Perform the Anderson-Darling test\n",
    "    result = stats.anderson(x, dist='norm')\n",
    "\n",
    "    # Interpretation\n",
    "    for cv, sig in zip(result.critical_values[2:], result.significance_level[2:]):\n",
    "        if result.statistic < cv:\n",
    "            print(f\"Fail to reject normality at {sig}% significance level\")\n",
    "        else:\n",
    "            print(f\"Reject normality at {sig}% significance level\")\n",
    "    return ''\n",
    "\n",
    "print('Ad:')\n",
    "print(ad_normal_test(total_ad))\n",
    "\n",
    "print('PSA:')\n",
    "print(ad_normal_test(total_psa))"
   ]
  },
  {
   "cell_type": "code",
   "execution_count": 9,
   "metadata": {},
   "outputs": [
    {
     "name": "stdout",
     "output_type": "stream",
     "text": [
      "T-statistic: 0.2139\n",
      "P-value: 0.4153\n",
      "Mean of total PSA: 24.76\n",
      "Mean of total Ad: 24.82\n"
     ]
    }
   ],
   "source": [
    "t_stat, p_value = stats.ttest_ind(total_ad, total_psa, alternative='greater')\n",
    "\n",
    "print(f\"T-statistic: {t_stat:.4f}\")\n",
    "print(f\"P-value: {p_value:.4f}\")\n",
    "print(f\"Mean of total PSA: {total_psa.mean():.2f}\")\n",
    "print(f\"Mean of total Ad: {total_ad.mean():.2f}\")"
   ]
  },
  {
   "cell_type": "markdown",
   "metadata": {},
   "source": [
    "p-value = 0.4153 $\\gg$ 0.05, fail to reject $H_0$. It doesn't mean $H_0$ is true, it only means we don't have strong evidence to say $H_1$ is true.\n",
    "\n",
    "no statistically significant evidence that users in the ad group saw more ads than the PSA group."
   ]
  },
  {
   "cell_type": "code",
   "execution_count": 10,
   "metadata": {},
   "outputs": [
    {
     "name": "stdout",
     "output_type": "stream",
     "text": [
      "Mann-Whitney U test u-stat: 6808288222.0\n",
      "Mann-Whitney U test p-value: 2.3454554273602847e-11\n",
      "Mean of total PSA: 24.76\n",
      "Mean of total Ad: 24.82\n"
     ]
    }
   ],
   "source": [
    "from scipy.stats import mannwhitneyu\n",
    "\n",
    "u_stat, p_value = mannwhitneyu(total_ad, total_psa, alternative='greater')\n",
    "\n",
    "print(\"Mann-Whitney U test u-stat:\", u_stat)\n",
    "print(\"Mann-Whitney U test p-value:\", p_value)\n",
    "print(f\"Mean of total PSA: {total_psa.mean():.2f}\")\n",
    "print(f\"Mean of total Ad: {total_ad.mean():.2f}\")"
   ]
  },
  {
   "cell_type": "markdown",
   "metadata": {},
   "source": [
    "Mann-Whitney U test was used because the distribution of total ads in both groups did not follow normality, as indicated by the Anderson-Darling test. The test does not assume normal distribution and is robust to skewed or ordinal data.\n",
    "\n",
    "Here p < 0.05, so we have to reject $H_0$ that claims total ads in ad group is less or equal than psa group and accept $H_1$. there's statistically significant evidence that the ad group saw more ads than the PSA group or $\\mu_{ad} > \\mu_{psa}$.\n",
    "\n",
    "U-statistic counts how many times values in one group rank higher than the other. In large datasets, the U value is also large — but the raw U value is not important. What matters is the p-value derived from it.\n",
    "\n",
    "Mean of Ad group: 24.82, while mean of PSA group: 24.76 and of course, p-value: ~2.3e-11. Therefore, ad group saw significantly more ads than PSA group according to p-value. But the difference in mean is only 0.06 ads, less than 1 ad per person. It’s statistically significant, but it may not matter in real business terms.\n",
    "\n",
    "Given the large sample size (>580K users), even very small differences can yield statistically significant results. Hence, it's important to consider both p-value and effect size when drawing business conclusions."
   ]
  },
  {
   "cell_type": "code",
   "execution_count": 11,
   "metadata": {},
   "outputs": [
    {
     "name": "stdout",
     "output_type": "stream",
     "text": [
      "Cliff's Delta: 0.00757412\n"
     ]
    }
   ],
   "source": [
    "# Sample smaller for faster computation if needed\n",
    "sample_ad = total_ad.sample(5000, random_state=1)\n",
    "sample_psa = total_psa.sample(5000, random_state=1)\n",
    "\n",
    "# Compute Cliff's delta\n",
    "diffs = [np.sign(x - y) for x, y in product(sample_ad, sample_psa)]\n",
    "cliffs_delta = np.mean(diffs)\n",
    "print(\"Cliff's Delta:\", cliffs_delta)"
   ]
  },
  {
   "cell_type": "markdown",
   "metadata": {},
   "source": [
    "**_However, the effect size is very small (Cliff’s Delta ≈ 0.007), suggesting that although the result is statistically significant, the actual difference is negligible in practical terms._**"
   ]
  },
  {
   "cell_type": "code",
   "execution_count": 12,
   "metadata": {},
   "outputs": [
    {
     "data": {
      "text/html": [
       "<div>\n",
       "<style scoped>\n",
       "    .dataframe tbody tr th:only-of-type {\n",
       "        vertical-align: middle;\n",
       "    }\n",
       "\n",
       "    .dataframe tbody tr th {\n",
       "        vertical-align: top;\n",
       "    }\n",
       "\n",
       "    .dataframe thead th {\n",
       "        text-align: right;\n",
       "    }\n",
       "</style>\n",
       "<table border=\"1\" class=\"dataframe\">\n",
       "  <thead>\n",
       "    <tr style=\"text-align: right;\">\n",
       "      <th></th>\n",
       "      <th>count</th>\n",
       "      <th>mean</th>\n",
       "      <th>std</th>\n",
       "      <th>min</th>\n",
       "      <th>25%</th>\n",
       "      <th>50%</th>\n",
       "      <th>75%</th>\n",
       "      <th>max</th>\n",
       "    </tr>\n",
       "    <tr>\n",
       "      <th>test group</th>\n",
       "      <th></th>\n",
       "      <th></th>\n",
       "      <th></th>\n",
       "      <th></th>\n",
       "      <th></th>\n",
       "      <th></th>\n",
       "      <th></th>\n",
       "      <th></th>\n",
       "    </tr>\n",
       "  </thead>\n",
       "  <tbody>\n",
       "    <tr>\n",
       "      <th>ad</th>\n",
       "      <td>564577.00</td>\n",
       "      <td>24.82</td>\n",
       "      <td>43.75</td>\n",
       "      <td>1.00</td>\n",
       "      <td>4.00</td>\n",
       "      <td>13.00</td>\n",
       "      <td>27.00</td>\n",
       "      <td>2065.00</td>\n",
       "    </tr>\n",
       "    <tr>\n",
       "      <th>psa</th>\n",
       "      <td>23524.00</td>\n",
       "      <td>24.76</td>\n",
       "      <td>42.86</td>\n",
       "      <td>1.00</td>\n",
       "      <td>4.00</td>\n",
       "      <td>12.00</td>\n",
       "      <td>26.00</td>\n",
       "      <td>907.00</td>\n",
       "    </tr>\n",
       "  </tbody>\n",
       "</table>\n",
       "</div>"
      ],
      "text/plain": [
       "               count  mean   std  min  25%   50%   75%     max\n",
       "test group                                                    \n",
       "ad         564577.00 24.82 43.75 1.00 4.00 13.00 27.00 2065.00\n",
       "psa         23524.00 24.76 42.86 1.00 4.00 12.00 26.00  907.00"
      ]
     },
     "execution_count": 12,
     "metadata": {},
     "output_type": "execute_result"
    }
   ],
   "source": [
    "# Compare avg ads seen\n",
    "df.groupby('test group')['total ads'].describe()"
   ]
  },
  {
   "cell_type": "code",
   "execution_count": 13,
   "metadata": {},
   "outputs": [
    {
     "data": {
      "image/png": "[encoded data removed]",
      "text/plain": [
       "<Figure size 640x480 with 1 Axes>"
      ]
     },
     "metadata": {},
     "output_type": "display_data"
    }
   ],
   "source": [
    "# Optional visualization\n",
    "sns.boxplot(data=df, x='test group', y='total ads')\n",
    "plt.title('Total Ads Exposure by Group')\n",
    "plt.show()"
   ]
  },
  {
   "cell_type": "code",
   "execution_count": 14,
   "metadata": {},
   "outputs": [
    {
     "data": {
      "image/png": "[encoded data removed]",
      "text/plain": [
       "<Figure size 640x480 with 1 Axes>"
      ]
     },
     "metadata": {},
     "output_type": "display_data"
    }
   ],
   "source": [
    "df['ads_bin'] = pd.cut(df['total ads'], bins=[0, 1, 3, 5, 10, 20, df['total ads'].max()], \n",
    "                       labels=['0-1','2-3','4-5','6-10','11-20','20+'])\n",
    "sns.barplot(x='ads_bin', y='converted', data=df)\n",
    "plt.title('Conversion Rate by Ad Exposure Level')\n",
    "plt.ylabel('Conversion Rate')\n",
    "plt.xlabel('Total Ads Bin')\n",
    "plt.show()"
   ]
  },
  {
   "cell_type": "code",
   "execution_count": 15,
   "metadata": {},
   "outputs": [
    {
     "data": {
      "image/png": "[encoded data removed]",
      "text/plain": [
       "<Figure size 1000x600 with 1 Axes>"
      ]
     },
     "metadata": {},
     "output_type": "display_data"
    }
   ],
   "source": [
    "conversion_by_bin_group = df.groupby(['test group', 'ads_bin'], observed=True)['converted'].mean().unstack()\n",
    "conversion_by_bin_group.T.plot(kind='bar', figsize=(10,6))\n",
    "plt.title('Conversion Rate by Ad Exposure Level, Split by Group')\n",
    "plt.ylabel('Conversion Rate')\n",
    "plt.xlabel('Total Ads Bin')\n",
    "plt.legend(title='Group')\n",
    "plt.xticks(rotation=0)\n",
    "plt.show()"
   ]
  },
  {
   "cell_type": "code",
   "execution_count": 16,
   "metadata": {},
   "outputs": [
    {
     "data": {
      "text/html": [
       "<div>\n",
       "<style scoped>\n",
       "    .dataframe tbody tr th:only-of-type {\n",
       "        vertical-align: middle;\n",
       "    }\n",
       "\n",
       "    .dataframe tbody tr th {\n",
       "        vertical-align: top;\n",
       "    }\n",
       "\n",
       "    .dataframe thead th {\n",
       "        text-align: right;\n",
       "    }\n",
       "</style>\n",
       "<table border=\"1\" class=\"dataframe\">\n",
       "  <thead>\n",
       "    <tr style=\"text-align: right;\">\n",
       "      <th></th>\n",
       "      <th></th>\n",
       "      <th>mean</th>\n",
       "      <th>count</th>\n",
       "    </tr>\n",
       "    <tr>\n",
       "      <th>test group</th>\n",
       "      <th>ads_bin</th>\n",
       "      <th></th>\n",
       "      <th></th>\n",
       "    </tr>\n",
       "  </thead>\n",
       "  <tbody>\n",
       "    <tr>\n",
       "      <th rowspan=\"6\" valign=\"top\">ad</th>\n",
       "      <th>0-1</th>\n",
       "      <td>0.00</td>\n",
       "      <td>54298</td>\n",
       "    </tr>\n",
       "    <tr>\n",
       "      <th>2-3</th>\n",
       "      <td>0.00</td>\n",
       "      <td>65239</td>\n",
       "    </tr>\n",
       "    <tr>\n",
       "      <th>4-5</th>\n",
       "      <td>0.00</td>\n",
       "      <td>50425</td>\n",
       "    </tr>\n",
       "    <tr>\n",
       "      <th>6-10</th>\n",
       "      <td>0.00</td>\n",
       "      <td>79537</td>\n",
       "    </tr>\n",
       "    <tr>\n",
       "      <th>11-20</th>\n",
       "      <td>0.01</td>\n",
       "      <td>123334</td>\n",
       "    </tr>\n",
       "    <tr>\n",
       "      <th>20+</th>\n",
       "      <td>0.07</td>\n",
       "      <td>191744</td>\n",
       "    </tr>\n",
       "    <tr>\n",
       "      <th rowspan=\"6\" valign=\"top\">psa</th>\n",
       "      <th>0-1</th>\n",
       "      <td>0.00</td>\n",
       "      <td>2308</td>\n",
       "    </tr>\n",
       "    <tr>\n",
       "      <th>2-3</th>\n",
       "      <td>0.00</td>\n",
       "      <td>3249</td>\n",
       "    </tr>\n",
       "    <tr>\n",
       "      <th>4-5</th>\n",
       "      <td>0.01</td>\n",
       "      <td>2304</td>\n",
       "    </tr>\n",
       "    <tr>\n",
       "      <th>6-10</th>\n",
       "      <td>0.01</td>\n",
       "      <td>3415</td>\n",
       "    </tr>\n",
       "    <tr>\n",
       "      <th>11-20</th>\n",
       "      <td>0.01</td>\n",
       "      <td>4150</td>\n",
       "    </tr>\n",
       "    <tr>\n",
       "      <th>20+</th>\n",
       "      <td>0.04</td>\n",
       "      <td>8098</td>\n",
       "    </tr>\n",
       "  </tbody>\n",
       "</table>\n",
       "</div>"
      ],
      "text/plain": [
       "                    mean   count\n",
       "test group ads_bin              \n",
       "ad         0-1      0.00   54298\n",
       "           2-3      0.00   65239\n",
       "           4-5      0.00   50425\n",
       "           6-10     0.00   79537\n",
       "           11-20    0.01  123334\n",
       "           20+      0.07  191744\n",
       "psa        0-1      0.00    2308\n",
       "           2-3      0.00    3249\n",
       "           4-5      0.01    2304\n",
       "           6-10     0.01    3415\n",
       "           11-20    0.01    4150\n",
       "           20+      0.04    8098"
      ]
     },
     "execution_count": 16,
     "metadata": {},
     "output_type": "execute_result"
    }
   ],
   "source": [
    "df.groupby(['test group', 'ads_bin'], observed=True)['converted'].agg(['mean', 'count'])"
   ]
  },
  {
   "cell_type": "markdown",
   "metadata": {},
   "source": [
    "_**If we are to discuss most ads hour and most ads day, we're no longer doing A/B testing since this is segmentation**_"
   ]
  },
  {
   "cell_type": "code",
   "execution_count": 17,
   "metadata": {},
   "outputs": [
    {
     "name": "stdout",
     "output_type": "stream",
     "text": [
      "Chi-square: 430.77, p-value: 0.0000\n"
     ]
    }
   ],
   "source": [
    "from scipy.stats import chi2_contingency\n",
    "\n",
    "# Buat tabulasi kontingensi\n",
    "hour_ct = pd.crosstab(df['most ads hour'], df['converted'])\n",
    "\n",
    "# Uji chi-square\n",
    "chi2, p, dof, expected = chi2_contingency(hour_ct)\n",
    "print(f\"Chi-square: {chi2:.2f}, p-value: {p:.4f}\")"
   ]
  },
  {
   "cell_type": "code",
   "execution_count": 18,
   "metadata": {},
   "outputs": [
    {
     "name": "stdout",
     "output_type": "stream",
     "text": [
      "Chi-square: 410.05, p-value: 0.0000\n"
     ]
    }
   ],
   "source": [
    "# Buat tabulasi kontingensi\n",
    "day_ct = pd.crosstab(df['most ads day'], df['converted'])\n",
    "\n",
    "# Uji chi-square\n",
    "chi2_day, p_day, dof_day, expected_day = chi2_contingency(day_ct)\n",
    "print(f\"Chi-square: {chi2_day:.2f}, p-value: {p_day:.4f}\")"
   ]
  },
  {
   "cell_type": "markdown",
   "metadata": {},
   "source": [
    "**There is a significant difference between different day and hour for conversion rate**"
   ]
  },
  {
   "cell_type": "code",
   "execution_count": 19,
   "metadata": {},
   "outputs": [
    {
     "data": {
      "image/png": "[encoded data removed]",
      "text/plain": [
       "<Figure size 640x480 with 1 Axes>"
      ]
     },
     "metadata": {},
     "output_type": "display_data"
    },
    {
     "data": {
      "image/png": "[encoded data removed]",
      "text/plain": [
       "<Figure size 640x480 with 1 Axes>"
      ]
     },
     "metadata": {},
     "output_type": "display_data"
    }
   ],
   "source": [
    "# Conversion rate by most_ads_hour\n",
    "hourly_conversion = df.groupby('most ads hour')['converted'].mean().sort_values(ascending=False)\n",
    "sns.barplot(x=hourly_conversion.index, y=hourly_conversion.values)\n",
    "plt.title('Conversion Rate by Most Ads Hour')\n",
    "plt.xlabel('Hour of Day')\n",
    "plt.ylabel('Conversion Rate')\n",
    "plt.show()\n",
    "\n",
    "# Conversion rate by most_ads_day\n",
    "day_conversion = df.groupby('most ads day')['converted'].mean().sort_values(ascending=False)\n",
    "sns.barplot(x=day_conversion.index, y=day_conversion.values)\n",
    "plt.title('Conversion Rate by Most Ads Day')\n",
    "plt.xlabel('Day of Week')\n",
    "plt.ylabel('Conversion Rate')\n",
    "plt.show()"
   ]
  },
  {
   "cell_type": "markdown",
   "metadata": {},
   "source": [
    "_**Day with highest conversion rate: Monday**_\n",
    "\n",
    "_**Hour with highest conversion rate: 16th hour (16:00)**_"
   ]
  },
  {
   "cell_type": "code",
   "execution_count": null,
   "metadata": {},
   "outputs": [],
   "source": []
  }
 ],
 "metadata": {
  "colab": {
   "provenance": [],
   "toc_visible": true
  },
  "kernelspec": {
   "display_name": "Python 3 (ipykernel)",
   "language": "python",
   "name": "python3"
  },
  "language_info": {
   "codemirror_mode": {
    "name": "ipython",
    "version": 3
   },
   "file_extension": ".py",
   "mimetype": "text/x-python",
   "name": "python",
   "nbconvert_exporter": "python",
   "pygments_lexer": "ipython3",
   "version": "3.12.9"
  }
 },
 "nbformat": 4,
 "nbformat_minor": 4
}
